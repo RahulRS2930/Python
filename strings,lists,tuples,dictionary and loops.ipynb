{
 "cells": [
  {
   "cell_type": "code",
   "execution_count": 78,
   "id": "7298e7a6",
   "metadata": {},
   "outputs": [
    {
     "name": "stdout",
     "output_type": "stream",
     "text": [
      "2\n",
      "3\n",
      "5\n",
      "7\n",
      "11\n",
      "13\n",
      "17\n",
      "19\n",
      "23\n",
      "29\n",
      "31\n",
      "37\n",
      "41\n",
      "43\n",
      "47\n",
      "53\n",
      "59\n",
      "61\n",
      "67\n",
      "71\n",
      "73\n",
      "79\n",
      "83\n",
      "89\n",
      "97\n"
     ]
    }
   ],
   "source": [
    "#prime number printing\n",
    "for i in range(2,100):\n",
    "    c=0\n",
    "    for j in range(2,(i//2)+1):\n",
    "        if i%j==0:\n",
    "            c=c+1\n",
    "            break\n",
    "    if (c==0):\n",
    "        print(i)\n",
    "        "
   ]
  },
  {
   "cell_type": "code",
   "execution_count": 11,
   "id": "7abc2c85",
   "metadata": {},
   "outputs": [
    {
     "name": "stdout",
     "output_type": "stream",
     "text": [
      "enter name: Rahul\n",
      "Good afternoon,Rahul\n"
     ]
    }
   ],
   "source": [
    "s1=input(\"enter name: \")\n",
    "s2=(\"Good afternoon,\")\n",
    "print(s2+s1)"
   ]
  },
  {
   "cell_type": "code",
   "execution_count": 12,
   "id": "e10bc3c0",
   "metadata": {},
   "outputs": [
    {
     "name": "stdout",
     "output_type": "stream",
     "text": [
      "Enter your name: Rahul\n",
      "Enter date: 5 Nov\n"
     ]
    },
    {
     "data": {
      "text/plain": [
       "'Dear NAME\\n        You are slected\\n        on DATE'"
      ]
     },
     "execution_count": 12,
     "metadata": {},
     "output_type": "execute_result"
    }
   ],
   "source": [
    "letter= '''Dear NAME\n",
    "        You are slected\n",
    "        on DATE'''\n",
    "n=input(\"Enter your name: \")\n",
    "d=input(\"Enter date: \")\n",
    "letter.replace(\"NAME\",n)\n",
    "letter.replace(\"DATE\",d)\n",
    "#This does not replaces the values to replace that we need to convert letter=letter.replace()"
   ]
  },
  {
   "cell_type": "code",
   "execution_count": 15,
   "id": "ee9e35e5",
   "metadata": {},
   "outputs": [
    {
     "name": "stdout",
     "output_type": "stream",
     "text": [
      "Enter your name: Rahul\n",
      "Enter date: 5 Nov\n",
      "Dear Rahul\n",
      "        You are slected\n",
      "        on 5 Nov\n"
     ]
    }
   ],
   "source": [
    "letter= '''Dear NAME\n",
    "        You are slected\n",
    "        on DATE'''\n",
    "n=input(\"Enter your name: \")\n",
    "d=input(\"Enter date: \")\n",
    "letter=letter.replace(\"NAME\",n)\n",
    "letter=letter.replace(\"DATE\",d)\n",
    "print(letter)"
   ]
  },
  {
   "cell_type": "code",
   "execution_count": 16,
   "id": "4091b48c",
   "metadata": {},
   "outputs": [
    {
     "name": "stdout",
     "output_type": "stream",
     "text": [
      "10\n"
     ]
    }
   ],
   "source": [
    "#program to find double spaces in a string\n",
    "s=\"Hi,this is  Rahul\"\n",
    "k=s.find(\"  \")\n",
    "print(k)\n",
    "#output will be starting index of double space"
   ]
  },
  {
   "cell_type": "code",
   "execution_count": 17,
   "id": "cb483e0a",
   "metadata": {},
   "outputs": [
    {
     "name": "stdout",
     "output_type": "stream",
     "text": [
      "Hi,this is Rahul\n"
     ]
    }
   ],
   "source": [
    "#To replce double spaces with single space\n",
    "s=(\"Hi,this is  Rahul\")\n",
    "s=s.replace(\"  \",\" \")\n",
    "print(s)"
   ]
  },
  {
   "cell_type": "code",
   "execution_count": 19,
   "id": "eeb02b1c",
   "metadata": {},
   "outputs": [
    {
     "name": "stdout",
     "output_type": "stream",
     "text": [
      "Hi Rahul Nice to meet you\n",
      "Hi Rahul\n",
      "\t Nice to meet you\n"
     ]
    }
   ],
   "source": [
    "#to print a formatted letter\n",
    "s=(\"Hi Rahul Nice to meet you\")\n",
    "f=(\"Hi Rahul\\n\\t Nice to meet you\") #\\n prints it in other line and \\t prints it after a tab space\n",
    "print(s)\n",
    "print(f)"
   ]
  },
  {
   "cell_type": "code",
   "execution_count": 21,
   "id": "09e21605",
   "metadata": {},
   "outputs": [
    {
     "name": "stdout",
     "output_type": "stream",
     "text": [
      "orange\n",
      "mango\n",
      "['orange', 'mango']\n"
     ]
    }
   ],
   "source": [
    "#to create list of  fruits entered by user\n",
    "F1=input()\n",
    "F2=input()\n",
    "mfl=[F1,F2] #[] represents that it is a list and list is mutable,i.e we can update values in a list\n",
    "print(mfl)"
   ]
  },
  {
   "cell_type": "code",
   "execution_count": 30,
   "id": "15334aba",
   "metadata": {},
   "outputs": [
    {
     "name": "stdout",
     "output_type": "stream",
     "text": [
      "2\n",
      "3\n",
      "4\n",
      "5\n",
      "1\n",
      "2\n",
      "['2', '3', '4', '5', '1', '2']\n",
      "['1', '2', '2', '3', '4', '5']\n",
      "None\n"
     ]
    }
   ],
   "source": [
    "#list to accept marks of students and display it in a sorted manner\n",
    "F1=input()\n",
    "F2=input()\n",
    "F3=input()\n",
    "F4=input()\n",
    "F5=input()\n",
    "F6=input()\n",
    "v=[F1,F2,F3,F4,F5,F6]\n",
    "print(v)\n",
    "v.sort()\n",
    "print(v)\n"
   ]
  },
  {
   "cell_type": "code",
   "execution_count": 24,
   "id": "c30d4340",
   "metadata": {},
   "outputs": [
    {
     "ename": "TypeError",
     "evalue": "'tuple' object does not support item assignment",
     "output_type": "error",
     "traceback": [
      "\u001b[1;31m---------------------------------------------------------------------------\u001b[0m",
      "\u001b[1;31mTypeError\u001b[0m                                 Traceback (most recent call last)",
      "Input \u001b[1;32mIn [24]\u001b[0m, in \u001b[0;36m<cell line: 3>\u001b[1;34m()\u001b[0m\n\u001b[0;32m      1\u001b[0m \u001b[38;5;66;03m#to check if avalue of a tuple is mutable or not\u001b[39;00m\n\u001b[0;32m      2\u001b[0m a\u001b[38;5;241m=\u001b[39m(\u001b[38;5;241m1\u001b[39m,\u001b[38;5;241m2\u001b[39m,\u001b[38;5;241m3\u001b[39m,\u001b[38;5;241m4\u001b[39m,\u001b[38;5;241m5\u001b[39m,\u001b[38;5;241m6\u001b[39m)\n\u001b[1;32m----> 3\u001b[0m a[\u001b[38;5;241m2\u001b[39m]\u001b[38;5;241m=\u001b[39m\u001b[38;5;241m5\u001b[39m\n\u001b[0;32m      4\u001b[0m \u001b[38;5;28mprint\u001b[39m(a)\n",
      "\u001b[1;31mTypeError\u001b[0m: 'tuple' object does not support item assignment"
     ]
    }
   ],
   "source": [
    "#to check if value of a tuple is mutable or not\n",
    "a=(1,2,3,4,5,6) #() represents tuple\n",
    "a[2]=5\n",
    "print(a)"
   ]
  },
  {
   "cell_type": "code",
   "execution_count": 26,
   "id": "d722a0c0",
   "metadata": {},
   "outputs": [
    {
     "name": "stdout",
     "output_type": "stream",
     "text": [
      "10\n"
     ]
    }
   ],
   "source": [
    "#program to sum a list\n",
    "a=[1,2,3,4]\n",
    "a=sum(a) # sum() is inbuilt function\n",
    "print(a)"
   ]
  },
  {
   "cell_type": "code",
   "execution_count": 29,
   "id": "7d8c9156",
   "metadata": {},
   "outputs": [
    {
     "name": "stdout",
     "output_type": "stream",
     "text": [
      "3\n"
     ]
    }
   ],
   "source": [
    "#program to count number of zeros in a given tuple\n",
    "a=(1,2,0,3,0,6,2,4,0)\n",
    "print(a.count(0))\n"
   ]
  },
  {
   "cell_type": "code",
   "execution_count": 34,
   "id": "c9d1110c",
   "metadata": {},
   "outputs": [
    {
     "name": "stdout",
     "output_type": "stream",
     "text": [
      "[1, 2, 3, 4, 5, 6, 10]\n",
      "[1, 2, 15, 3, 4, 5, 6, 10]\n"
     ]
    }
   ],
   "source": [
    "a=[1,2,3,4,5,6]\n",
    "a.append(10) #append adds elements at the end of list\n",
    "print(a)\n",
    "a.insert(2,15) # insert position adds 15 at position 2 in list\n",
    "print(a)"
   ]
  },
  {
   "cell_type": "code",
   "execution_count": 36,
   "id": "fed55ee4",
   "metadata": {},
   "outputs": [
    {
     "name": "stdout",
     "output_type": "stream",
     "text": [
      "Dictionary in python\n"
     ]
    }
   ],
   "source": [
    "print(\"Dictionary in python\")"
   ]
  },
  {
   "cell_type": "code",
   "execution_count": 47,
   "id": "6b1dac4d",
   "metadata": {},
   "outputs": [
    {
     "name": "stdout",
     "output_type": "stream",
     "text": [
      "fan\n",
      "bake\n",
      "[1, 2, 5]\n",
      "[1, 3, 4]\n",
      "dict_keys(['tomato', 'man', 'lake', 'Marks'])\n",
      "['tomato', 'man', 'lake', 'Marks']\n",
      "dict_values(['potato', 'fan', 'bake', [1, 3, 4]])\n",
      "dict_items([('tomato', 'potato'), ('man', 'fan'), ('lake', 'bake'), ('Marks', [1, 3, 4])])\n"
     ]
    }
   ],
   "source": [
    "myDict={\n",
    "    \"tomato\":\"potato\",\n",
    "    \"man\":\"fan\",\n",
    "    \"lake\":\"bake\",\n",
    "    \"Marks\":[1,2,5]\n",
    "}\n",
    "print(myDict['man'])  #corresponding to man value in myDixt\n",
    "print(myDict['lake'])\n",
    "print(myDict['Marks'])\n",
    "myDict['Marks']=[1,3,4]  #dictionary is mutable and is unordered\n",
    "print(myDict['Marks'])\n",
    "print(myDict.keys())\n",
    "print(list(myDict.keys())) #prints the keys of myDict and stores them in a list\n",
    "print(myDict.values())\n",
    "print(myDict.items())"
   ]
  },
  {
   "cell_type": "code",
   "execution_count": 48,
   "id": "5236c28b",
   "metadata": {},
   "outputs": [
    {
     "name": "stdout",
     "output_type": "stream",
     "text": [
      "{'tomato': 'potato', 'man': 'fan', 'lake': 'bake', 'Marks': [1, 3, 4], 'hey': 'They'}\n"
     ]
    }
   ],
   "source": [
    "Dict={\n",
    "    \"hey\":\"They\"\n",
    "}\n",
    "myDict.update(Dict) #updates the value in the dictionary\n",
    "print(myDict)"
   ]
  },
  {
   "cell_type": "code",
   "execution_count": 49,
   "id": "27512b7b",
   "metadata": {},
   "outputs": [
    {
     "name": "stdout",
     "output_type": "stream",
     "text": [
      "Sets in Python\n"
     ]
    }
   ],
   "source": [
    "print(\"Sets in Python\")"
   ]
  },
  {
   "cell_type": "code",
   "execution_count": 52,
   "id": "56209f67",
   "metadata": {},
   "outputs": [
    {
     "name": "stdout",
     "output_type": "stream",
     "text": [
      "<class 'set'>\n",
      "{1, 3, 4, 5}\n",
      "<class 'dict'>\n"
     ]
    }
   ],
   "source": [
    "a={1,3,4,5}\n",
    "print(type(a))\n",
    "a={1,3,4,5,1}\n",
    "print(a) #set does not prints repetitive elements\n",
    "b={} #creates empty dictionary and not empty set\n",
    "print(type(b))"
   ]
  },
  {
   "cell_type": "code",
   "execution_count": 56,
   "id": "ab0276f1",
   "metadata": {},
   "outputs": [
    {
     "name": "stdout",
     "output_type": "stream",
     "text": [
      "{4, 5, 6, 7}\n",
      "{4, 5, 6, 7, (4, 5, 6)}\n"
     ]
    }
   ],
   "source": [
    "b=set() #creates empty set\n",
    "b.add(4)\n",
    "b.add(6)\n",
    "b.add(7)\n",
    "b.add(5) #adding elements more than once does not chnage the set\n",
    "print(b)\n",
    "b.add((4,5,6)) #we can add tuple in set but not lists and dictionary\n",
    "print(b)  #sts are unordered\n"
   ]
  },
  {
   "cell_type": "code",
   "execution_count": 64,
   "id": "ad32b4db",
   "metadata": {},
   "outputs": [
    {
     "name": "stdout",
     "output_type": "stream",
     "text": [
      "{4, 6, 7}\n",
      "{6, 7}\n"
     ]
    }
   ],
   "source": [
    "b={4,5,6,7}\n",
    "b.remove(5)\n",
    "print(b)\n",
    "b.pop()\n",
    "print(b)\n"
   ]
  },
  {
   "cell_type": "code",
   "execution_count": 65,
   "id": "f945a7d9",
   "metadata": {},
   "outputs": [
    {
     "name": "stdout",
     "output_type": "stream",
     "text": [
      "Practice set of sets and dictionary\n"
     ]
    }
   ],
   "source": [
    "print(\"Practice set of sets and dictionary\")"
   ]
  },
  {
   "cell_type": "code",
   "execution_count": 69,
   "id": "1320e66d",
   "metadata": {},
   "outputs": [
    {
     "name": "stdout",
     "output_type": "stream",
     "text": [
      "Options are:  dict_keys(['pankha', 'ghar', 'jagah'])\n",
      "ENter the hindi word: ghar\n",
      "The meaning of ur word is:  home\n"
     ]
    }
   ],
   "source": [
    "\n",
    "myDict={\n",
    "    \"pankha\":\"fan\",\n",
    "    \"ghar\":\"home\",\n",
    "    \"jagah\":\"place\"\n",
    "}\n",
    "print(\"Options are: \",myDict.keys())  #gives user the available options of words\n",
    "a=input(\"ENter the hindi word: \") #takes input from user\n",
    "print(\"The meaning of ur word is: \",myDict.get(a)) #gives translation of the word\n",
    "#.get does not throws errror when element is not present"
   ]
  },
  {
   "cell_type": "code",
   "execution_count": 71,
   "id": "6a27122b",
   "metadata": {},
   "outputs": [
    {
     "name": "stdout",
     "output_type": "stream",
     "text": [
      "1\n",
      "2\n",
      "2\n",
      "3\n",
      "{1, 2, 3}\n"
     ]
    }
   ],
   "source": [
    "#input 4 no from users and print unique numbers\n",
    "a=int(input())\n",
    "b=int(input())\n",
    "c=int(input())\n",
    "d=int(input())\n",
    "k={a,b,c,d} #creates set and set does not print repetitive elements\n",
    "print(k)"
   ]
  },
  {
   "cell_type": "code",
   "execution_count": 72,
   "id": "390bcce5",
   "metadata": {},
   "outputs": [
    {
     "name": "stdout",
     "output_type": "stream",
     "text": [
      "{32, '32'}\n"
     ]
    }
   ],
   "source": [
    "# to check whether a set can have int 32 and str 32 as values\n",
    "a={32,\"32\"}\n",
    "print(a) #gives output,hence possible"
   ]
  },
  {
   "cell_type": "code",
   "execution_count": 74,
   "id": "03c68102",
   "metadata": {},
   "outputs": [
    {
     "name": "stdout",
     "output_type": "stream",
     "text": [
      "{'20', 20}\n",
      "2\n"
     ]
    }
   ],
   "source": [
    "s=set() #creates empty set\n",
    "s.add(20)\n",
    "s.add(20.0)\n",
    "s.add(\"20\")\n",
    "print(s)\n",
    "print(len(s))"
   ]
  },
  {
   "cell_type": "code",
   "execution_count": 75,
   "id": "effb77e0",
   "metadata": {},
   "outputs": [
    {
     "name": "stdout",
     "output_type": "stream",
     "text": [
      "Enter Shubham1\n",
      "Enter Raj2\n",
      "Enter Rahul3\n",
      "Enter Harry4\n",
      "{'Shubham': '1', 'Raj': '2', 'rahul': '3', 'Harry': '4'}\n"
     ]
    }
   ],
   "source": [
    "#dictionary to get fav fruit of 4 friends having unique names\n",
    "k={} #creates empty dictionary\n",
    "a=input(\"Enter Shubham\")\n",
    "b=input(\"Enter Raj\")\n",
    "c=input(\"Enter Rahul\")\n",
    "d=input(\"Enter Harry\")\n",
    "k['Shubham']=a\n",
    "k['Raj']=b\n",
    "k['rahul']=c\n",
    "k['Harry']=d\n",
    "print(k)\n",
    "\n",
    "\n"
   ]
  },
  {
   "cell_type": "code",
   "execution_count": 76,
   "id": "5ebe0d8c",
   "metadata": {},
   "outputs": [
    {
     "name": "stdout",
     "output_type": "stream",
     "text": [
      "Enter Shubham1\n",
      "Enter Raj2\n",
      "Enter Raj1\n",
      "Enter Harry2\n",
      "{'Shubham': '1', 'Raj': '1', 'Harry': '2'}\n"
     ]
    }
   ],
   "source": [
    "#same question but names of two friends are same\n",
    "k={} #creates empty dictionary\n",
    "a=input(\"Enter Shubham\")\n",
    "b=input(\"Enter Raj\")\n",
    "c=input(\"Enter Raj\")\n",
    "d=input(\"Enter Harry\")\n",
    "k['Shubham']=a\n",
    "k['Raj']=b\n",
    "k['Raj']=c\n",
    "k['Harry']=d\n",
    "print(k)   #hence keys should be unique in dictionary "
   ]
  },
  {
   "cell_type": "code",
   "execution_count": 80,
   "id": "a514697a",
   "metadata": {},
   "outputs": [
    {
     "ename": "TypeError",
     "evalue": "unhashable type: 'list'",
     "output_type": "error",
     "traceback": [
      "\u001b[1;31m---------------------------------------------------------------------------\u001b[0m",
      "\u001b[1;31mTypeError\u001b[0m                                 Traceback (most recent call last)",
      "Input \u001b[1;32mIn [80]\u001b[0m, in \u001b[0;36m<cell line: 2>\u001b[1;34m()\u001b[0m\n\u001b[0;32m      1\u001b[0m \u001b[38;5;66;03m#can we update values in this set\u001b[39;00m\n\u001b[1;32m----> 2\u001b[0m S\u001b[38;5;241m=\u001b[39m{\u001b[38;5;241m1\u001b[39m,\u001b[38;5;241m2\u001b[39m,\u001b[38;5;124m\"\u001b[39m\u001b[38;5;124mHarry\u001b[39m\u001b[38;5;124m\"\u001b[39m,[\u001b[38;5;241m3\u001b[39m,\u001b[38;5;241m5\u001b[39m]}\n",
      "\u001b[1;31mTypeError\u001b[0m: unhashable type: 'list'"
     ]
    }
   ],
   "source": [
    "#can we update values in this set\n",
    "S={1,2,\"Harry\",[3,5]}   #will sbow error as list or dict cannot be inside an set\n",
    "#and even if it was a tuple then tuple is not mutable"
   ]
  },
  {
   "cell_type": "code",
   "execution_count": 79,
   "id": "265ed566",
   "metadata": {},
   "outputs": [
    {
     "name": "stdout",
     "output_type": "stream",
     "text": [
      "COnditional Expressions\n"
     ]
    }
   ],
   "source": [
    "print(\"COnditional Expressions\")"
   ]
  },
  {
   "cell_type": "code",
   "execution_count": 82,
   "id": "dee53638",
   "metadata": {},
   "outputs": [
    {
     "name": "stdout",
     "output_type": "stream",
     "text": [
      "yes\n"
     ]
    }
   ],
   "source": [
    "a=4\n",
    "if(a>3):\n",
    "    print(\"yes\")\n",
    "elif(a>2):\n",
    "    print(\"no\")\n",
    "else:\n",
    "    print(\"Cannot predict\")  \n",
    "#as 1st statement is true so it will not check other two statements"
   ]
  },
  {
   "cell_type": "code",
   "execution_count": 83,
   "id": "6ec11200",
   "metadata": {},
   "outputs": [
    {
     "name": "stdout",
     "output_type": "stream",
     "text": [
      "yes\n",
      "no\n"
     ]
    }
   ],
   "source": [
    " a=4\n",
    "if(a>3):\n",
    "    print(\"yes\")\n",
    "if(a>2):\n",
    "    print(\"no\")\n",
    "else:\n",
    "    print(\"Cannot predict\")  "
   ]
  },
  {
   "cell_type": "code",
   "execution_count": 84,
   "id": "67955e41",
   "metadata": {},
   "outputs": [
    {
     "name": "stdout",
     "output_type": "stream",
     "text": [
      "true\n"
     ]
    }
   ],
   "source": [
    "age=34\n",
    "if(age>30 and age<56):\n",
    "    print(\"true\")\n",
    "else:\n",
    "    print(\"false\")"
   ]
  },
  {
   "cell_type": "code",
   "execution_count": 90,
   "id": "f5a14f08",
   "metadata": {},
   "outputs": [
    {
     "name": "stdout",
     "output_type": "stream",
     "text": [
      "Yes\n",
      "False\n"
     ]
    }
   ],
   "source": [
    " # in and is function\n",
    "a= None\n",
    "if(a is None):\n",
    "        print(\"Yes\")\n",
    "else:\n",
    "        print(\"No\")\n",
    "    \n",
    "k=[3,45,6]\n",
    "print(9 in k) #as 9 is not in list so false\n"
   ]
  },
  {
   "cell_type": "code",
   "execution_count": 91,
   "id": "cc4a15b5",
   "metadata": {},
   "outputs": [
    {
     "name": "stdout",
     "output_type": "stream",
     "text": [
      "1\n",
      "3\n",
      "2\n",
      "6\n",
      "6\n"
     ]
    }
   ],
   "source": [
    "#program to get biggest no\n",
    "a=input()\n",
    "b=input()\n",
    "c=input()\n",
    "d=input()\n",
    "if(a>b):\n",
    "    k=a\n",
    "else:\n",
    "    k=b\n",
    "if(c>d):\n",
    "    m=c\n",
    "else:\n",
    "    m=d\n",
    "if(k>m):\n",
    "    print(k)\n",
    "else:\n",
    "    print(m)\n",
    "    \n"
   ]
  },
  {
   "cell_type": "code",
   "execution_count": 92,
   "id": "4f9e8579",
   "metadata": {},
   "outputs": [
    {
     "name": "stdout",
     "output_type": "stream",
     "text": [
      "Yes\n"
     ]
    }
   ],
   "source": [
    "# to check whether given username has less than 10 charaters\n",
    "s=\"kijihduhfhf\"\n",
    "if(len(s)>10):\n",
    "    print(\"Yes\")\n",
    "else:\n",
    "    print(\"False\")"
   ]
  },
  {
   "cell_type": "code",
   "execution_count": 93,
   "id": "34d33ca9",
   "metadata": {},
   "outputs": [
    {
     "name": "stdout",
     "output_type": "stream",
     "text": [
      "Enter textBuy now\n",
      "spam\n"
     ]
    }
   ],
   "source": [
    "#program to detect spams\n",
    "text=input(\"Enter text\")\n",
    "spam=False\n",
    "if(\"make a lot of money\" in text):\n",
    "    spam=True\n",
    "elif(\"Buy now\" in text):\n",
    "    spam=True\n",
    "else:\n",
    "    spam=False\n",
    "if(spam):\n",
    "    print(\"spam\")\n",
    "else:\n",
    "    print(\"False\")"
   ]
  },
  {
   "cell_type": "code",
   "execution_count": 94,
   "id": "282a0e1a",
   "metadata": {},
   "outputs": [
    {
     "name": "stdout",
     "output_type": "stream",
     "text": [
      "Name: Raj\n",
      "Yes\n"
     ]
    }
   ],
   "source": [
    "name=[\"Harry\",\"Rahul\",\"Raj\",\"Hey\"]\n",
    "k=input(\"Name: \")\n",
    "if(k in name):\n",
    "    print(\"Yes\")\n",
    "else:\n",
    "    print(\"No\")"
   ]
  },
  {
   "cell_type": "code",
   "execution_count": 95,
   "id": "3129eeb6",
   "metadata": {},
   "outputs": [
    {
     "name": "stdout",
     "output_type": "stream",
     "text": [
      "Loops in python\n"
     ]
    }
   ],
   "source": [
    "print('Loops in python')"
   ]
  },
  {
   "cell_type": "code",
   "execution_count": 96,
   "id": "337c9b95",
   "metadata": {},
   "outputs": [
    {
     "name": "stdout",
     "output_type": "stream",
     "text": [
      "Yes0\n",
      "Yes1\n",
      "Yes2\n",
      "Yes3\n",
      "Yes4\n",
      "Yes5\n",
      "Yes6\n",
      "Yes7\n",
      "Yes8\n",
      "Yes9\n",
      "Done\n"
     ]
    }
   ],
   "source": [
    "i=0\n",
    "while i<10:\n",
    "    print(\"Yes\"+str(i))\n",
    "    i=i+1\n",
    "print(\"Done\")"
   ]
  },
  {
   "cell_type": "code",
   "execution_count": 97,
   "id": "995832d1",
   "metadata": {},
   "outputs": [
    {
     "name": "stdout",
     "output_type": "stream",
     "text": [
      "Banana\n",
      "mangoes\n",
      "grapes\n"
     ]
    }
   ],
   "source": [
    "fruits=[\"Banana\",\"mangoes\",\"grapes\"]\n",
    "i=0\n",
    "while i<len(fruits):\n",
    "    print(fruits[i])\n",
    "    i=i+1"
   ]
  },
  {
   "cell_type": "code",
   "execution_count": 101,
   "id": "3d2450f1",
   "metadata": {},
   "outputs": [
    {
     "name": "stdout",
     "output_type": "stream",
     "text": [
      "0\n",
      "2\n",
      "4\n",
      "6\n"
     ]
    }
   ],
   "source": [
    "for i in range(0,7,2): # 2 at ends specifies to skip the 2nd output every time\n",
    "    print(i)\n",
    "   "
   ]
  },
  {
   "cell_type": "code",
   "execution_count": 106,
   "id": "12a056a6",
   "metadata": {},
   "outputs": [
    {
     "name": "stdout",
     "output_type": "stream",
     "text": [
      "0\n",
      "1\n",
      "2\n",
      "3\n",
      "4\n",
      "6\n",
      "7\n",
      "8\n",
      "9\n"
     ]
    }
   ],
   "source": [
    "for i in range(10):\n",
    "    if i == 5:\n",
    "      continue  #for 5 it skips the print and continues\n",
    "    print(i)"
   ]
  },
  {
   "cell_type": "code",
   "execution_count": 109,
   "id": "77ae8ca0",
   "metadata": {},
   "outputs": [
    {
     "name": "stdout",
     "output_type": "stream",
     "text": [
      "5\n",
      "5\n",
      "10\n",
      "15\n",
      "20\n",
      "25\n",
      "30\n",
      "35\n",
      "40\n",
      "45\n",
      "50\n"
     ]
    }
   ],
   "source": [
    "  #multiplication table of input number\n",
    "a=int(input())\n",
    "for i in range(1,11):\n",
    "    k=a*i\n",
    "    print(k)"
   ]
  },
  {
   "cell_type": "code",
   "execution_count": null,
   "id": "afdcfdc9",
   "metadata": {},
   "outputs": [],
   "source": [
    "k=[\"Rahul\",\"Raj\",\"Singh\"]\n",
    "for name in k:\n",
    "    if name.startswith(\"R\"):\n",
    "        print(\"Hello\" + name)\n",
    "    "
   ]
  },
  {
   "cell_type": "code",
   "execution_count": null,
   "id": "76e606eb",
   "metadata": {},
   "outputs": [],
   "source": [
    "a=int(input())\n",
    "for i in rangle(2,a//2+1):\n",
    "     c=0\n",
    "    if(a%i!=0):\n",
    "        c++\n",
    "        break\n",
    "if(c==0 and a!=1):\n",
    "    print(\"Yes\")\n",
    "else:\n",
    "    print(\"No\")"
   ]
  },
  {
   "cell_type": "code",
   "execution_count": null,
   "id": "7a7ef33d",
   "metadata": {},
   "outputs": [],
   "source": []
  }
 ],
 "metadata": {
  "kernelspec": {
   "display_name": "Python 3 (ipykernel)",
   "language": "python",
   "name": "python3"
  },
  "language_info": {
   "codemirror_mode": {
    "name": "ipython",
    "version": 3
   },
   "file_extension": ".py",
   "mimetype": "text/x-python",
   "name": "python",
   "nbconvert_exporter": "python",
   "pygments_lexer": "ipython3",
   "version": "3.9.12"
  }
 },
 "nbformat": 4,
 "nbformat_minor": 5
}
