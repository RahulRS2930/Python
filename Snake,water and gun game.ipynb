{
 "cells": [
  {
   "cell_type": "code",
   "execution_count": 7,
   "id": "56964abc",
   "metadata": {},
   "outputs": [
    {
     "name": "stdout",
     "output_type": "stream",
     "text": [
      "COmp turn:Snake(s) Water(w) or Gun(g)\n",
      "YOur turn:Snake(s) Water(w) or Gun(g)s\n",
      "You lose\n"
     ]
    }
   ],
   "source": [
    "import random #so that computer will choose random value\n",
    " \n",
    "def game(c1,c2):\n",
    "    if c1==c2:\n",
    "        return None\n",
    "    elif c1=='s':\n",
    "            if c2=='w':\n",
    "                return False\n",
    "            elif c2=='g':\n",
    "                return True\n",
    "    elif c1=='w':\n",
    "            if c2=='g':\n",
    "                return False\n",
    "            elif c2=='s':\n",
    "                return True\n",
    "    elif c1=='g':\n",
    "            if c2=='s':\n",
    "                return False\n",
    "            elif c2=='w':\n",
    "                return True\n",
    "    \n",
    "        \n",
    "print(\"COmp turn:Snake(s) Water(w) or Gun(g)\")\n",
    "rand=random.randint(1, 3)\n",
    "if rand==1:\n",
    "    comp='s'\n",
    "elif rand==2:\n",
    "    comp='w'\n",
    "else:\n",
    "    comp='g'\n",
    "\n",
    "you=input(\"YOur turn:Snake(s) Water(w) or Gun(g)\")\n",
    "\n",
    "a=game(comp,you)\n",
    "if a==None:\n",
    "    print(\"Tie\")\n",
    "elif a:\n",
    "    print(\"You win\")\n",
    "else:\n",
    "    print(\"You lose\")"
   ]
  },
  {
   "cell_type": "code",
   "execution_count": null,
   "id": "d1c0f47a",
   "metadata": {},
   "outputs": [],
   "source": []
  }
 ],
 "metadata": {
  "kernelspec": {
   "display_name": "Python 3 (ipykernel)",
   "language": "python",
   "name": "python3"
  },
  "language_info": {
   "codemirror_mode": {
    "name": "ipython",
    "version": 3
   },
   "file_extension": ".py",
   "mimetype": "text/x-python",
   "name": "python",
   "nbconvert_exporter": "python",
   "pygments_lexer": "ipython3",
   "version": "3.9.12"
  }
 },
 "nbformat": 4,
 "nbformat_minor": 5
}
