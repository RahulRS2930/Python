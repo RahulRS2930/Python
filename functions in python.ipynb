{
 "cells": [
  {
   "cell_type": "markdown",
   "id": "14cba87b",
   "metadata": {},
   "source": [
    "# creating functions"
   ]
  },
  {
   "cell_type": "code",
   "execution_count": 11,
   "id": "dd84a13a",
   "metadata": {},
   "outputs": [
    {
     "name": "stdout",
     "output_type": "stream",
     "text": [
      "60.0\n"
     ]
    }
   ],
   "source": [
    "marks=[45,55,65,75]\n",
    "p1=sum(marks)/4\n",
    "print(p1)"
   ]
  },
  {
   "cell_type": "code",
   "execution_count": 12,
   "id": "22e2b1e4",
   "metadata": {},
   "outputs": [
    {
     "name": "stdout",
     "output_type": "stream",
     "text": [
      "65.0\n",
      "67.5\n"
     ]
    }
   ],
   "source": [
    "#using function\n",
    "def percent(marks):  #def is used to define that it is a function\n",
    "    k=(sum(marks)/4)\n",
    "    return k\n",
    "marks1=[50,60,70,80]\n",
    "p1=percent(marks1)\n",
    "print(p1)\n",
    "marks2=[55,65,70,80]\n",
    "p2=percent(marks2)\n",
    "print(p2)"
   ]
  },
  {
   "cell_type": "code",
   "execution_count": 17,
   "id": "5ea24453",
   "metadata": {},
   "outputs": [
    {
     "name": "stdout",
     "output_type": "stream",
     "text": [
      "Hello Rahul\n"
     ]
    }
   ],
   "source": [
    "#to greet the input person\n",
    "def greet(name):\n",
    "    print(\"Hello \"+name)\n",
    "\n",
    "greet(\"Rahul\")\n"
   ]
  },
  {
   "cell_type": "code",
   "execution_count": 18,
   "id": "484d765c",
   "metadata": {},
   "outputs": [
    {
     "name": "stdout",
     "output_type": "stream",
     "text": [
      "12\n"
     ]
    }
   ],
   "source": [
    "def mySum(num1,num2):\n",
    "    return(num1+num2)\n",
    "s=mySum(5,7)\n",
    "print(s)\n",
    "    "
   ]
  },
  {
   "cell_type": "code",
   "execution_count": 20,
   "id": "e6e627ef",
   "metadata": {},
   "outputs": [
    {
     "name": "stdout",
     "output_type": "stream",
     "text": [
      "HEllo RAhul\n",
      "HEllo STranger\n"
     ]
    }
   ],
   "source": [
    "def greet(Name=\"STranger\"): #so if no name it will take stranger as input\n",
    "    print(\"HEllo \"+Name) #else will take name as input\n",
    "\n",
    "greet(\"RAhul\")\n",
    "greet()\n",
    "    "
   ]
  },
  {
   "cell_type": "code",
   "execution_count": 23,
   "id": "c37e1dae",
   "metadata": {},
   "outputs": [
    {
     "name": "stdout",
     "output_type": "stream",
     "text": [
      "24\n"
     ]
    }
   ],
   "source": [
    "def factorial(n):\n",
    "    product=1\n",
    "    for i in range(n):\n",
    "        product=product*(i+1)\n",
    "    return product\n",
    "s=factorial(4)\n",
    "print(s)"
   ]
  },
  {
   "cell_type": "code",
   "execution_count": 1,
   "id": "d6c92216",
   "metadata": {},
   "outputs": [
    {
     "name": "stdout",
     "output_type": "stream",
     "text": [
      "120\n"
     ]
    }
   ],
   "source": [
    "#using recursion\n",
    "def fact(n):\n",
    "    if n==1 or n==0:\n",
    "        return 1\n",
    "    return n*fact(n-1)\n",
    "s=fact(5)\n",
    "print(s)\n",
    "    "
   ]
  },
  {
   "cell_type": "code",
   "execution_count": 4,
   "id": "959871dd",
   "metadata": {},
   "outputs": [
    {
     "name": "stdout",
     "output_type": "stream",
     "text": [
      "10\n",
      "12\n",
      "5\n",
      "MAx is:  12\n"
     ]
    }
   ],
   "source": [
    "#to find greates of three number\n",
    "def max(num1,num2):\n",
    "    if(num1>num2):\n",
    "        return num1\n",
    "    else:\n",
    "        return num2\n",
    "a=int(input())\n",
    "b=int(input())\n",
    "c=int(input())\n",
    "k=max(a,b)\n",
    "d=max(k,c)\n",
    "print(\"MAx is: \",d)"
   ]
  },
  {
   "cell_type": "code",
   "execution_count": 5,
   "id": "36aa52ad",
   "metadata": {},
   "outputs": [
    {
     "name": "stdout",
     "output_type": "stream",
     "text": [
      "hello\n",
      "how\n",
      "are\n",
      "you\n"
     ]
    }
   ],
   "source": [
    "#to prevent python to print it in different line\n",
    "print(\"hello\")\n",
    "print(\"how\")\n",
    "print(\"are\")\n",
    "print(\"you\")"
   ]
  },
  {
   "cell_type": "code",
   "execution_count": 6,
   "id": "981c4cb5",
   "metadata": {},
   "outputs": [
    {
     "name": "stdout",
     "output_type": "stream",
     "text": [
      "hello how are you "
     ]
    }
   ],
   "source": [
    "print(\"hello\",end=\" \")\n",
    "print(\"how\",end=\" \")\n",
    "print(\"are\",end=\" \")\n",
    "print(\"you\",end=\" \")"
   ]
  },
  {
   "cell_type": "code",
   "execution_count": 2,
   "id": "ea1ff5bb",
   "metadata": {},
   "outputs": [
    {
     "name": "stdout",
     "output_type": "stream",
     "text": [
      "15\n"
     ]
    }
   ],
   "source": [
    "#recursive to calculate sum of first n natural numbers\n",
    "def sum(n):\n",
    "    if n==0:\n",
    "        return 0\n",
    "    return n+sum(n-1)\n",
    "s=sum(5)\n",
    "print(s)"
   ]
  },
  {
   "cell_type": "code",
   "execution_count": 6,
   "id": "f18c52b8",
   "metadata": {},
   "outputs": [
    {
     "name": "stdout",
     "output_type": "stream",
     "text": [
      "******\n",
      "*****\n",
      "****\n",
      "***\n",
      "**\n",
      "*\n",
      "None\n"
     ]
    }
   ],
   "source": [
    "#to print a pattern\n",
    "def pattern(n):\n",
    "    for i in range(n):\n",
    "        print(\"*\" * (n-i))\n",
    "print(pattern(6))"
   ]
  },
  {
   "cell_type": "code",
   "execution_count": 10,
   "id": "aade08bf",
   "metadata": {},
   "outputs": [
    {
     "name": "stdout",
     "output_type": "stream",
     "text": [
      "Rahul Raj SIngh\n"
     ]
    }
   ],
   "source": [
    "#to reverse a string and strip that\n",
    "def remove_and_split(string,word):\n",
    "    newStr=string.replace(word,\"\")\n",
    "    return newStr.strip()  #strip function remove the wide spaces on both sides\n",
    "this=\"     Rahul Raj SIngh is      \"\n",
    "n=remove_and_split(this,\"is\")\n",
    "print(n)"
   ]
  },
  {
   "cell_type": "code",
   "execution_count": 11,
   "id": "15011bec",
   "metadata": {},
   "outputs": [
    {
     "name": "stdout",
     "output_type": "stream",
     "text": [
      "5\n",
      "    *    \n",
      "   ***   \n",
      "  *****  \n",
      " ******* \n",
      "*********\n"
     ]
    }
   ],
   "source": [
    "n=int(input())\n",
    "for i in range(n):\n",
    "    print(\" \"* (n-1-i),end=\"\")\n",
    "    print(\"*\"*(2*i+1),end=\"\")\n",
    "    print(\" \"*(n-1-i))"
   ]
  },
  {
   "cell_type": "code",
   "execution_count": 12,
   "id": "e9589868",
   "metadata": {},
   "outputs": [
    {
     "name": "stdout",
     "output_type": "stream",
     "text": [
      "5\n",
      "\n",
      "*\n",
      "**\n",
      "***\n",
      "****\n",
      "*****\n"
     ]
    }
   ],
   "source": [
    "a=int(input())\n",
    "for i in range(0,a+1):\n",
    "  print(\"*\"*i)"
   ]
  },
  {
   "cell_type": "code",
   "execution_count": null,
   "id": "0f980299",
   "metadata": {},
   "outputs": [],
   "source": []
  }
 ],
 "metadata": {
  "kernelspec": {
   "display_name": "Python 3 (ipykernel)",
   "language": "python",
   "name": "python3"
  },
  "language_info": {
   "codemirror_mode": {
    "name": "ipython",
    "version": 3
   },
   "file_extension": ".py",
   "mimetype": "text/x-python",
   "name": "python",
   "nbconvert_exporter": "python",
   "pygments_lexer": "ipython3",
   "version": "3.9.12"
  }
 },
 "nbformat": 4,
 "nbformat_minor": 5
}
